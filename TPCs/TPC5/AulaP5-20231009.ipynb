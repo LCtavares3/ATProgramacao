{
 "cells": [
  {
   "cell_type": "markdown",
   "id": "1e545158",
   "metadata": {},
   "source": [
    "# Aula Prática 5 (guião)\n",
    "### Semana de 9 a 13 de Outubro de 2023\n",
    "### José Carlos Ramalho e Luís Cunha\n",
    "### Sinopsis:\n",
    "Algoritmos e modelação de problemas com listas e listas de listas."
   ]
  },
  {
   "cell_type": "markdown",
   "id": "1d9c2fbc",
   "metadata": {},
   "source": [
    "### Exercício 1 (repescado): estaOrdenada\n",
    "- Defina uma função que recebe uma lista de números e verifica se a mesma está ordenada por ordem crescente dando como resultado um valor **True** ou **False**."
   ]
  },
  {
   "cell_type": "code",
   "execution_count": null,
   "id": "fb44546a",
   "metadata": {},
   "outputs": [],
   "source": [
    "# Solução do exercício 1\n",
    "def estaOrdenada(lista):\n",
    "    for x in range  (len(lista))\n",
    "    \n",
    "\n",
    "listaA = [2,7,5,6,8]\n",
    "listaB = [2,5,6,7,8]\n",
    "print(estaOrdenada(listaA), estaOrdenada(listaB))"
   ]
  },
  {
   "cell_type": "code",
   "execution_count": 2,
   "id": "765d6f1f",
   "metadata": {},
   "outputs": [
    {
     "name": "stdout",
     "output_type": "stream",
     "text": [
      "False True\n"
     ]
    }
   ],
   "source": [
    "def estaOrdenada(lista):\n",
    "    i = 0\n",
    "    condicao = True\n",
    "    while i < len(lista) - 1:\n",
    "        if lista[i]>lista[i+1]:\n",
    "            condicao = False\n",
    "        i = i + 1\n",
    "\n",
    "    return condicao\n",
    "\n",
    "listaA = [2,7,5,6,8]\n",
    "listaB = [2,5,6,7,8]\n",
    "print(estaOrdenada(listaA), estaOrdenada(listaB))"
   ]
  },
  {
   "cell_type": "markdown",
   "id": "274abafd",
   "metadata": {},
   "source": [
    "### Exercício 2: ordenaLista\n",
    "\n",
    "* Defina uma função que recebe uma lista de números e que dá como resultado uma nova lista ordenada de forma crescente: pode usar o método _sort_, mas se o fizer implemente uma segunda solução recorrendo a um ciclo _while_."
   ]
  },
  {
   "cell_type": "code",
   "execution_count": 7,
   "id": "368aa7cd",
   "metadata": {},
   "outputs": [
    {
     "name": "stdout",
     "output_type": "stream",
     "text": [
      "[2, 3, 4, 20]\n"
     ]
    }
   ],
   "source": [
    "# Solução do exercício 2\n",
    "def ordenaLista(lista):\n",
    "    return sorted(lista)\n",
    "\n",
    "lista = [2,20,4,3]  \n",
    "\n",
    "print(ordenaLista(lista))"
   ]
  },
  {
   "cell_type": "code",
   "execution_count": 8,
   "id": "4bc24935",
   "metadata": {},
   "outputs": [
    {
     "name": "stdout",
     "output_type": "stream",
     "text": [
      "[2, 3, 4, 20]\n"
     ]
    }
   ],
   "source": [
    "def ordenaLista(lista2 ) :\n",
    "    lista2.sort()\n",
    "    return lista2\n",
    "\n",
    "lista2 = [2, 20, 4,3]\n",
    "print (ordenaLista(lista2))"
   ]
  },
  {
   "cell_type": "code",
   "execution_count": 17,
   "id": "923ccb93",
   "metadata": {},
   "outputs": [
    {
     "name": "stdout",
     "output_type": "stream",
     "text": [
      "[2, 6, 7, 8, 55]\n"
     ]
    }
   ],
   "source": [
    "def ordenaLista3(lista) :\n",
    "    j = 0\n",
    "    cond = True\n",
    "    while j < len(lista) and cond :\n",
    "        i = 1\n",
    "        cond = False\n",
    "        while i < len(lista) :\n",
    "            if lista[i - 1] > lista[i] : \n",
    "                aux = lista[i - 1]\n",
    "                lista[i - 1] = lista[i]\n",
    "                lista[i] = aux\n",
    "                cond = True\n",
    "            i = i + 1\n",
    "        j = j + 1    \n",
    "    return lista\n",
    "lista = [ 2, 7, 55, 6, 8]\n",
    "print(ordenaLista3(lista))        "
   ]
  },
  {
   "cell_type": "markdown",
   "id": "bb2a82e2",
   "metadata": {},
   "source": [
    "### Exercício 3: Parques de estacionamento do Continente\n",
    "\n",
    "Foste encarregado de criar uma pequena aplicação para gerir os parques de estacionamento do Continente (aqueles inteligentes que têm uma luzinha a indicar se o lugar está livre ou ocupado). \n",
    "\n",
    "Considera que cada lugar num parque é identificado por um número inteiro. \n",
    "Um parque é definido pelo seu nome, o número de lugares que tem disponíveis e uma lista dos lugares que se encontram ocupados no momento.\n",
    "\n",
    "Considera a seguinte sugestão para o modelo dos parques:\n",
    "```\n",
    "Parques = [Parque]\n",
    "Parque = [nlugares, ocupados, nome]\n",
    "nlugares = Int\n",
    "ocupados = [lugar]\n",
    "nome = String\n",
    "lugar = Int\n",
    "```\n",
    "Que poderá ser usado num programa da seguinte forma:\n",
    "```\n",
    "p1 = [600, [], \"P1\"]\n",
    "p2 = [1500, [], \"P2\"]\n",
    "parques = []\n",
    "...\n",
    "parques = inserirParque(parques, p1)\n",
    "parques = inserirParque(parques ,p2)\n",
    "...\n",
    "listar(parques)\n",
    "...\n",
    "if(disponivel( parques, \"P1\", 23 ):\n",
    "    parques = estaciona( parques, \"P1\", 23 );\n",
    "...\n",
    "listardisponibilidades(parques);\n",
    "...\n",
    "```\n",
    "Especifique as funções utilizadas no exemplo:\n",
    "\n",
    "1. `inserirParque( listap, p )` - que insere o parque `p` na lista de parques;\n",
    "2. `listar( listap )` - que lista no monitor todos os parques disponíveis juntamente com a sua informação: nome e número de lugares;\n",
    "3. `disponivel( listap, nomep, lugar )` - que dá como resultado **False** se o lugar **lugar** já estiver ocupado nesse parque e **True** caso contrário;\n",
    "4. `estaciona( listap, nomep, lugar)` - que dá como resultado um novo sistema de parques após a entrada de um carro no parque de nome **nomep** e que estacionou no lugar **lugar**;\n",
    "5. `listardisponibilidades( listap )` - que lista no monitor o nome de todos parques activos juntamente com o número de lugares disponíveis em cada um;\n",
    "6. `listarP(listap, nomep)` - que lista no monitor a informação do parque, nome, lugares e lista de ocupados;\n",
    "7. `libertaLugar(listap, nomep, lugar)` - que retira **lugar** da lista de lugares ocupados do respetivo parque;\n",
    "8. `criaParque(listap, nomep, lugares)` - que acrescenta um novo parque à lista de parques, devolvendo uma nova lista;\n",
    "9. `removeParque(listap, nomep)` - que remove o parque da lista, se a lista de lugares ocupados estiver vazia;\n",
    "10. Especifique uma aplicação, com estas opções e outras que façam sentido, para fazer a gestão dos parques: a aplicação deverá ter um menu de opções e ciclicamente executará as operações selecionadas pelo utilizador até este selecionar a opção de terminar (as funções acima indicadas são os construtoes do modelo, precisam de parâmetros, devem ser encapsuladas em funções que lêem esses parâmetros).  "
   ]
  },
  {
   "cell_type": "code",
   "execution_count": 19,
   "id": "4c10ae94",
   "metadata": {},
   "outputs": [],
   "source": [
    "# Solução do exercício 3\n",
    "# ----------------------\n",
    "# Modelo:\n",
    "#   Parques = [Parque]\n",
    "#   Parque = [nlugares, ocupados, nome]\n",
    "#   nlugares = Int\n",
    "#   ocupados = [lugar]\n",
    "#   nome = String\n",
    "#   lugar = Int\n",
    "\n",
    "def inserirParque( listap, p ):\n",
    "    listap.append(p)\n",
    "    return listap\n",
    "\n",
    "def listar( listap ):\n",
    "    print(\"------------- Parques-------------\")\n",
    "    for p in listap :\n",
    "        print(\"Nome: \" , p[2], \"| \", \"Nrº lugares: \" , p[0])\n",
    "    return\n",
    "\n",
    "def disponivel( listap, nomep, lugar ):                    \n",
    "    for p in listap :\n",
    "        if p[2] == nomep :\n",
    "            if lugar not in p[1] :\n",
    "                cond = True\n",
    "    return cond \n",
    "\n",
    "def estaciona( listap, nomep, lugar):\n",
    "    if disponivel(listap, nomep, lugar):\n",
    "        for p in listap:\n",
    "            if p[2] == nomep:\n",
    "                p[1].apped(lugar)\n",
    "    return listap\n",
    "\n",
    "\n",
    "def listardisponibilidades( listap ):\n",
    "    return\n",
    "\n",
    "\n",
    "def listarP(listap, nomep):\n",
    "    return\n",
    "\n",
    "\n",
    "def libertaLugar(listap, nomep, lugar):\n",
    "    return\n",
    "\n",
    "\n",
    "def criaParque(listap, nomep, lugares):\n",
    "    return\n",
    "\n",
    "\n",
    "def removeParque(listap, nomep):\n",
    "    return\n",
    "\n",
    "def menu():\n",
    "    print(\"\"\" \n",
    "    (1) Reset\n",
    "    (2) Criar Parque\n",
    "    (3) Remover Parque\n",
    "    (4) Listar Parques\n",
    "    (5) Consulta Parque \n",
    "    ...\n",
    "    (0) Sair\n",
    "    \"\"\")\n"
   ]
  },
  {
   "cell_type": "code",
   "execution_count": 18,
   "id": "002208d4",
   "metadata": {},
   "outputs": [
    {
     "ename": "NameError",
     "evalue": "name 'inserirParque' is not defined",
     "output_type": "error",
     "traceback": [
      "\u001b[0;31m---------------------------------------------------------------------------\u001b[0m",
      "\u001b[0;31mNameError\u001b[0m                                 Traceback (most recent call last)",
      "\u001b[1;32m/Users/Luisa/Downloads/AulaP5-20231009.ipynb Cell 11\u001b[0m line \u001b[0;36m8\n\u001b[1;32m      <a href='vscode-notebook-cell:/Users/Luisa/Downloads/AulaP5-20231009.ipynb#X10sZmlsZQ%3D%3D?line=5'>6</a>\u001b[0m p2 \u001b[39m=\u001b[39m [\u001b[39m1500\u001b[39m, [], \u001b[39m\"\u001b[39m\u001b[39mP2\u001b[39m\u001b[39m\"\u001b[39m]\n\u001b[1;32m      <a href='vscode-notebook-cell:/Users/Luisa/Downloads/AulaP5-20231009.ipynb#X10sZmlsZQ%3D%3D?line=6'>7</a>\u001b[0m parques \u001b[39m=\u001b[39m []\n\u001b[0;32m----> <a href='vscode-notebook-cell:/Users/Luisa/Downloads/AulaP5-20231009.ipynb#X10sZmlsZQ%3D%3D?line=7'>8</a>\u001b[0m parques \u001b[39m=\u001b[39m inserirParque(parques, p1)\n\u001b[1;32m      <a href='vscode-notebook-cell:/Users/Luisa/Downloads/AulaP5-20231009.ipynb#X10sZmlsZQ%3D%3D?line=8'>9</a>\u001b[0m parques \u001b[39m=\u001b[39m inserirParque(parques ,p2)\n\u001b[1;32m     <a href='vscode-notebook-cell:/Users/Luisa/Downloads/AulaP5-20231009.ipynb#X10sZmlsZQ%3D%3D?line=9'>10</a>\u001b[0m x \u001b[39m=\u001b[39m listar(parques)\n",
      "\u001b[0;31mNameError\u001b[0m: name 'inserirParque' is not defined"
     ]
    }
   ],
   "source": [
    "# ---------------------------------------\n",
    "# Teste às funções\n",
    "# ---------------------------------------\n",
    "\n",
    "p1 = [600, [], \"P1\"]\n",
    "p2 = [1500, [], \"P2\"]\n",
    "parques = []\n",
    "parques = inserirParque(parques, p1)\n",
    "parques = inserirParque(parques ,p2)\n",
    "x = listar(parques)\n"
   ]
  },
  {
   "cell_type": "code",
   "execution_count": null,
   "id": "04d4cc18",
   "metadata": {},
   "outputs": [],
   "source": [
    "# Aplicação para gerir parques\n",
    "opcao = 1\n",
    "while opcao != '0':\n",
    "    menu()\n",
    "    opcao = input(\"Introduza uma opção: \")\n",
    "    \n"
   ]
  },
  {
   "cell_type": "markdown",
   "id": "212a8b18",
   "metadata": {},
   "source": [
    "### Exercício 4: splitLista\n",
    "\n",
    "* Defina uma função que recebe uma lista de números e um número e que dá como resultado uma lista com dois elementos, o primeiro elemento é uma lista com os números menores ou iguais ao número passado como argumento, e o segundo elemento é uma lista com os maiores."
   ]
  },
  {
   "cell_type": "code",
   "execution_count": null,
   "id": "c7a21191",
   "metadata": {},
   "outputs": [],
   "source": [
    "# Solução do exercício 4\n",
    "def splitLista(lista):\n",
    "    \n",
    "    return"
   ]
  },
  {
   "cell_type": "markdown",
   "id": "caf54e37",
   "metadata": {},
   "source": [
    "### Exercício 5: mergeListas\n",
    "\n",
    "* Defina uma função que recebe duas listas de números ordenadas e dá como resultado uma nova lista ordenada com os elementos das duas listas."
   ]
  },
  {
   "cell_type": "code",
   "execution_count": null,
   "id": "444f1f0f",
   "metadata": {},
   "outputs": [],
   "source": [
    "# Solução do exercício 5\n",
    "def splitLista(lista):\n",
    "    \n",
    "    return"
   ]
  },
  {
   "cell_type": "markdown",
   "id": "4193a91b",
   "metadata": {},
   "source": [
    "### TPC5: Aplicação para Gerir um Cinema\n",
    "\n",
    "Suponha que está a desenvolver uma aplicacão para gestão de um conjunto de salas de cinema de um centro comercial. \n",
    "Nesse centro comercial existem algumas salas de cinema (que poderão estar a exibir filmes ou não), cada sala tem uma determinada \n",
    "lotação, uma lista com a referência dos bilhetes vendidos (lugares ocupados; cada lugar é identificado por um número inteiro), e cada sala tem um filme associado.\n",
    "\n",
    "Considera a seguinte sugestão para o modelo dos cinemas:\n",
    "```\n",
    "Cinema = [Sala]\n",
    "Sala = [nlugares, Vendidos, filme]\n",
    "nlugares = Int\n",
    "filme = String \n",
    "Vendidos = [Int]\n",
    "```\n",
    "  \n",
    "Que poderá ser usado num programa da seguinte forma:\n",
    "```\n",
    "sala1 = (150, [], \"Twilight\")\n",
    "sala2 = (200, [], \"Hannibal\")\n",
    "cinema1 = []\n",
    "...\n",
    "cinema1 = inserirSala(cinema1,sala1)\n",
    "cinema1 = inserirSala(cinema1,sala2)\n",
    "...\n",
    "listar(cinema1)\n",
    "...\n",
    "\n",
    "if(disponivel(cinema1, \"Twilight\", 17 )):\n",
    "  cinema1 = vendebilhete(cinema1, \"Twilight\", 17 )\n",
    "...\n",
    "listardisponibilidades(cinema1)\n",
    "...\n",
    "```\n",
    "\n",
    "Especifique as funções utilizadas no exemplo:\n",
    "\n",
    "1. `listar( cinema )` - que lista no monitor todos os filmes que estão em exibição nas salas do cinema passado como argumento;\n",
    "2. `disponivel( cinema, filme, lugar )` - que dá como resultado **False** se o lugar lugar já estiver ocupado na sala onde o filme está a ser exibido e dará como resultado **True** se o inverso acontecer;\n",
    "3. `vendebilhete( cinema, filme, lugar )` - que dá como resultado um novo cinema resultante de acrescentar o lugar à lista dos lugares ocupados, na sala onde está a ser exibido o filme;\n",
    "4. `listardisponibilidades( cinema )` - que, para um dado cinema, lista no monitor para cada sala, o filme que está a ser exibido e o total de lugares disponíveis nessa sala (número de lugares na sala menos o número de lugares ocupados);\n",
    "5. `inserirSala( cinema, sala )` - que acrescenta uma sala nova a um cinema (devendo verificar se a sala já existe);\n",
    "6. Acrescente todas as outras funcionalidades que achar necessárias;\n",
    "7. À semelhança do exercício 3, construa uma aplicação com um menu de interface para as operações.\n"
   ]
  },
  {
   "cell_type": "code",
   "execution_count": null,
   "id": "ab04e425",
   "metadata": {},
   "outputs": [],
   "source": [
    "sala1 = (150, [], \"Twilight\")\n",
    "sala2 = (200, [], \"Hannibal\")\n",
    "cinema1 = []\n",
    "def listar(cinema):\n",
    "    for sala in cinema:\n",
    "        lista.append(sala(2))\n",
    "    return lista\n",
    "\n",
    "def disponivel(cinema,filme,lugar):\n",
    "    res = False #assumir que o lugar esta ocupado\n",
    "    for sala in cinema:\n",
    "        if filme == sala(2):\n",
    "            if lugar not in sala(1):\n",
    "                res = true\n",
    "    return res\n",
    "\n",
    "def vendebilhete(cinema,filme,lugar):\n",
    "    if disponivel(cinema,filme,lugar):\n",
    "        for sala in cinema:\n",
    "         if filme == sala(2):\n",
    "            sala(1).append(lugar)\n",
    "    return cinema\n",
    "\n",
    "def listardisponibilidade(cinema):\n",
    "    l = []\n",
    "    for sala in cinema:\n",
    "        info = (sala(2),lista(o)-len(sala(1)))\n",
    "        l.append(info)\n",
    "    return l\n",
    "\n",
    "def inserirsala(cinema,sala):\n",
    "    if sala not in cinema:\n",
    "        cinema.append(sala)\n",
    "    return cinema\n",
    "\n",
    "def menu():\n",
    "    print(1. `listar( cinema )` - que lista no monitor todos os filmes que estão em exibição nas salas do cinema passado como argumento;\n",
    "     2. `disponivel( cinema, filme, lugar )` - que dá como resultado **False** se o lugar lugar já estiver ocupado na sala onde o filme está a ser exibido e dará como resultado **True** se o inverso acontecer;\n",
    "     3. `vendebilhete( cinema, filme, lugar )` - que dá como resultado um novo cinema resultante de acrescentar o lugar à lista dos lugares ocupados, na sala onde está a ser exibido o filme;\n",
    "     4. `listardisponibilidades( cinema )` - que, para um dado cinema, lista no monitor para cada sala, o filme que está a ser exibido e o total de lugares disponíveis nessa sala (número de lugares na sala menos o número de lugares ocupados);\n",
    "     5. `inserirSala( cinema, sala )` - que acrescenta uma sala nova a um cinema (devendo verificar se a sala já existe);\n",
    "     6. Acrescente todas as outras funcionalidades que achar necessárias;\n",
    "     7. À semelhança do exercício 3, construa uma aplicação com um menu de interface para as operações.)\n",
    "\n",
    "num = int(input(\"Escreva a sua opcao\"))\n",
    "if num == 1:\n",
    "    1 = listar(cinema)\n",
    "    for filme in lista:\n",
    "        print(filmes)\n",
    "\n",
    "if num == 2:\n",
    "    cinema = str(input(\"Escolha o cinema\"))\n",
    "    filme = str(input(\"Qual é o filme que quer ver\"))\n",
    "    lugar=int(input(\"EScolhe o lugar\"))\n",
    "\n",
    "    cond = disponivel(cinema,filme,lugar)\n",
    "\n",
    "    if cond:\n",
    "        print(\"O seu lugar está disponivel\")\n",
    "    else:\n",
    "        print(\"Não está\")\n",
    "\n",
    "if num == 3:\n",
    "    cinema = str(input(\"Escolha o cinema\"))\n",
    "    filme = str(input(\"Qual é o filme que quer ver\"))\n",
    "    lugar = int(\"Escolha o lugar\")\n",
    "\n",
    "    vendebilhete(cinema,filme,lugar)\n",
    "\n",
    "if num == 4:\n",
    "    print(listardisponibilidades(str(input(\"EScolha o cinema\"))))\n",
    "\n",
    "if num == 5:\n",
    "    cinema=str(input(\"Escolha o cinema\"))\n",
    "    num_lugares = int(input(\"Insera o número de lugares\"))\n",
    "    \n",
    "    n = int(input(\"Quantos lugares estão vendidos\"))\n",
    "    lista = []\n",
    "    for i in range(n):\n",
    "        num = int(input(\"Qual o num do lugar\"))\n",
    "        lista.append(num)\n",
    "\n",
    "    filme = str(input(\"Insira o filme\"))\n",
    "    sala = (num_lugares, lista, filme)\n",
    "    inserirsala(cinema, sala)\n",
    "\n",
    "\n",
    "            "
   ]
  }
 ],
 "metadata": {
  "kernelspec": {
   "display_name": "Python 3.9.1 64-bit",
   "language": "python",
   "name": "python3"
  },
  "language_info": {
   "codemirror_mode": {
    "name": "ipython",
    "version": 3
   },
   "file_extension": ".py",
   "mimetype": "text/x-python",
   "name": "python",
   "nbconvert_exporter": "python",
   "pygments_lexer": "ipython3",
   "version": "3.11.5"
  },
  "vscode": {
   "interpreter": {
    "hash": "aee8b7b246df8f9039afb4144a1f6fd8d2ca17a180786b69acc140d282b71a49"
   }
  }
 },
 "nbformat": 4,
 "nbformat_minor": 5
}
