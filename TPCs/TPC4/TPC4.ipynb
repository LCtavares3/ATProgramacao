{
 "cells": [
  {
   "cell_type": "markdown",
   "id": "1e545158",
   "metadata": {},
   "source": [
    "# Aula Prática 4 (guião)\n",
    "### Semana de 2 a 6 de Outubro de 2023\n",
    "### José Carlos Ramalho e Luís Cunha\n",
    "### Sinopsis:\n",
    "Algoritmos sobre listas."
   ]
  },
  {
   "cell_type": "markdown",
   "id": "e38d18c4-d7d7-4fea-9bc6-e3f3c903386b",
   "metadata": {},
   "source": [
    "### Exercício 1: Criar uma lista \n",
    "- Defina uma função que recebe um argumento **N** e devolve uma  lista com os números ímpares até **N**;\n",
    "- Crie um programa que chama a função e imprime a lista resultante."
   ]
  },
  {
   "cell_type": "code",
   "execution_count": 1,
   "id": "af973146-3bb4-4fa8-ba6c-b887b79ccff8",
   "metadata": {},
   "outputs": [
    {
     "data": {
      "text/plain": [
       "[1, 3, 5, 7, 9, 11, 13, 15, 17, 19]"
      ]
     },
     "execution_count": 1,
     "metadata": {},
     "output_type": "execute_result"
    }
   ],
   "source": [
    "# Solução do exercício 1\n",
    "def criaLista(N): \n",
    "    lista = []\n",
    "    for n in range(0, N+1):\n",
    "        if n % 2 == 1:\n",
    "            lista.append(n)\n",
    "    return lista\n",
    "\n",
    "def criaLista3(N):\n",
    "         lista = []\n",
    "         x = 1\n",
    "         while x <= N :\n",
    "            lista.append(x)\n",
    "            x = x + 2\n",
    "            return lista\n",
    "\n",
    "criaLista3(20)\n",
    "\n",
    "def criaLista4(N) :\n",
    "     return [x for x in range(0, N+1) if x % 2 == 1]\n",
    "\n",
    "criaLista4(20)\n",
    "                    \n",
    "               \n",
    "               \n",
    "    \n",
    "    \n"
   ]
  },
  {
   "cell_type": "markdown",
   "id": "bdcbffb0",
   "metadata": {},
   "source": [
    "### Exercício 2: Ler uma lista de N números\n",
    "- Defina uma função que recebe um argumento **N** e lê **N** números armazenando-os numa lista que é devolvida como resultado;\n",
    "- Crie um programa que chama a função e imprime a lista resultante."
   ]
  },
  {
   "cell_type": "code",
   "execution_count": 2,
   "id": "af973146-3bb4-4fa8-ba6c-b887b79ccff8",
   "metadata": {},
   "outputs": [],
   "source": [
    "# Solução do exercício 2\n",
    "N = int(input(\"Introduz um número\"))\n",
    "def leLista(N):\n",
    "    i = 1\n",
    "    lista = []\n",
    "    while i < N + 1 :\n",
    "        lista.append (i)\n",
    "        i = i + 1\n",
    "    return lista\n",
    "print (leLista(N))\n",
    "\n",
    "    \n"
   ]
  },
  {
   "cell_type": "markdown",
   "id": "bdcbffb0",
   "metadata": {},
   "source": [
    "### Exercício 3: Somar uma lista de números\n",
    "- Defina uma função que recebe uma lista como argumento e devolve a soma dos números nessa lista."
   ]
  },
  {
   "cell_type": "code",
   "execution_count": null,
   "id": "64ad6f7b",
   "metadata": {},
   "outputs": [
    {
     "data": {
      "text/plain": [
       "15"
      ]
     },
     "execution_count": 8,
     "metadata": {},
     "output_type": "execute_result"
    }
   ],
   "source": [
    "# Solução do exercício 3\n",
    "\n",
    "def somaLista(lista):\n",
    "    soma = 0\n",
    "    for e in lista:\n",
    "        soma = soma + e\n",
    "    return soma\n",
    "\n",
    "somaLista([1,7,3,4])"
   ]
  },
  {
   "cell_type": "markdown",
   "id": "65565661",
   "metadata": {},
   "source": [
    "### Exercício 4: Quadrado dos elementos de uma lista\n",
    "\n",
    "- Defina uma função que recebe uma lista como argumento e devolve uma nova lista com os quadrados de cada número da lista inicial. \n",
    "\n",
    "#### Input (exemplo)\n",
    "in: [1, 2, 3, 4]\n",
    "#### Output (exemplo)\n",
    "out: [1, 4, 9, 16]"
   ]
  },
  {
   "cell_type": "code",
   "execution_count": null,
   "id": "7e3e2775",
   "metadata": {},
   "outputs": [
    {
     "data": {
      "text/plain": [
       "[1, 4, 9]"
      ]
     },
     "execution_count": 17,
     "metadata": {},
     "output_type": "execute_result"
    }
   ],
   "source": [
    "def quadrados(lista):\n",
    "    lista1 = []\n",
    "    for n in lista:\n",
    "        lista1.append(n*n)\n",
    "    return lista1\n",
    "quadrados ([1,2,3])"
   ]
  },
  {
   "cell_type": "markdown",
   "id": "bdcbffb0",
   "metadata": {},
   "source": [
    "### Exercício 5: Calcular a média duma lista de números\n",
    "- Defina uma função que recebe uma lista como argumento e devolve a média dos números nessa lista."
   ]
  },
  {
   "cell_type": "code",
   "execution_count": null,
   "id": "a6c32b2e",
   "metadata": {},
   "outputs": [
    {
     "name": "stdout",
     "output_type": "stream",
     "text": [
      "2.0\n"
     ]
    }
   ],
   "source": [
    "# Solução do exercício 5\n",
    "def mediaLista(lista):\n",
    "    soma = 0\n",
    "    for e in lista:\n",
    "        soma = soma + e \n",
    "    media = soma / len(lista)\n",
    "    return media \n",
    "\n",
    "print(mediaLista([1,2,3]))\n",
    "    \n",
    "    "
   ]
  },
  {
   "cell_type": "markdown",
   "id": "f41ef69b",
   "metadata": {},
   "source": [
    "### Exercício 6: Maior de uma sequência\n",
    "- Defina uma função que recebe uma lista como argumento e devolve o maior número nessa lista."
   ]
  },
  {
   "cell_type": "code",
   "execution_count": null,
   "id": "86f5b24d",
   "metadata": {},
   "outputs": [],
   "source": [
    "# Solução do exercício 6\n",
    "def maiorLista(lista):\n",
    "    \n",
    "    return"
   ]
  },
  {
   "cell_type": "markdown",
   "id": "d11cdd11",
   "metadata": {},
   "source": [
    "### Exercício 6: Menor de uma sequência\n",
    "- Defina uma função que recebe uma lista como argumento e devolve o menor número nessa lista."
   ]
  },
  {
   "cell_type": "code",
   "execution_count": null,
   "id": "7549c7d7",
   "metadata": {},
   "outputs": [],
   "source": [
    "# Solução do exercício 6\n",
    "def menorLista(lista):\n",
    "    \n",
    "    return"
   ]
  },
  {
   "cell_type": "markdown",
   "id": "bb597e57",
   "metadata": {},
   "source": [
    "### Exercício 7: Contar Ocorrências\n",
    "- Defina uma função que recebe uma lista e um elemento como argumento, e que devolve o número de ocurrências desse elemento na lista."
   ]
  },
  {
   "cell_type": "code",
   "execution_count": null,
   "id": "e426e923",
   "metadata": {},
   "outputs": [],
   "source": [
    "# Solução do exercício 7\n",
    "def occor(lista, elem):\n",
    "    \n",
    "    return"
   ]
  },
  {
   "cell_type": "markdown",
   "id": "775a02a5",
   "metadata": {},
   "source": [
    "### Exercício 8: Contar strings\n",
    "- Defina uma função que recebe uma lista de strings como argumento e devolve número de strings nessa lista que:\n",
    "    1. Têm tamanho maior ou igual a 3;\n",
    "    2. Começam e terminam pelo mesmo caracter.\n",
    "#### Input (exemplo)\n",
    "in: ['abc', 'xyz', 'ab', '1221']\n",
    "#### Output (exemplo)\n",
    "out1: 3\n",
    "\n",
    "out2: 1"
   ]
  },
  {
   "cell_type": "code",
   "execution_count": null,
   "id": "7390bc6a",
   "metadata": {},
   "outputs": [],
   "source": [
    "# Solução do exercício 8\n",
    "def contarStringsLista(lista):\n",
    "    \n",
    "    return"
   ]
  },
  {
   "cell_type": "markdown",
   "id": "f9ba457b",
   "metadata": {},
   "source": [
    "### Exercício 9: Remover duplicados\n",
    "- Defina uma função que recebe uma lista como argumento e devolve uma nova lista eliminando elementos repetidos."
   ]
  },
  {
   "cell_type": "code",
   "execution_count": null,
   "id": "0abc61e5",
   "metadata": {},
   "outputs": [],
   "source": [
    "# Solução do exercício 9\n",
    "def remDupLista(lista):\n",
    "    \n",
    "    return"
   ]
  },
  {
   "cell_type": "markdown",
   "id": "9bc471d8",
   "metadata": {},
   "source": [
    "### Exercício 10: eVazia?\n",
    "- Defina uma função que recebe uma lista como argumento e devolve um resultado booleano verdadeiro se a lista estiver vazia."
   ]
  },
  {
   "cell_type": "code",
   "execution_count": null,
   "id": "18cf2aff",
   "metadata": {},
   "outputs": [],
   "source": [
    "# Solução do exercício 10\n",
    "def eVazia(lista):\n",
    "    \n",
    "    return"
   ]
  },
  {
   "cell_type": "markdown",
   "id": "72b8fac0",
   "metadata": {},
   "source": [
    "### Exercício 11: Copiar lista\n",
    "- Defina uma função que recebe uma lista como argumento e devolve uma nova lista correspondente a uma cópia da lista recebida."
   ]
  },
  {
   "cell_type": "code",
   "execution_count": null,
   "id": "a61ca503",
   "metadata": {},
   "outputs": [],
   "source": [
    "# Solução do exercício 11\n",
    "def copiarLista(lista):\n",
    "    \n",
    "    return"
   ]
  },
  {
   "cell_type": "markdown",
   "id": "d170cc50",
   "metadata": {},
   "source": [
    "### Exercício 12: Strings maiores que n carateres\n",
    "- Defina uma função que recebe dois argumentos, uma lista de strings e um número inteiro, e que devolve uma nova lista de strings em que estas têm um comprimento igual ou superior ao valor inteiro passado como argumento."
   ]
  },
  {
   "cell_type": "code",
   "execution_count": null,
   "id": "1944ef1d",
   "metadata": {},
   "outputs": [],
   "source": [
    "# Solução do exercício 12\n",
    "def stringsMaioresLista(lista, n):\n",
    "    \n",
    "    return"
   ]
  },
  {
   "cell_type": "markdown",
   "id": "af46fe06",
   "metadata": {},
   "source": [
    "### Exercício 13: Comum?\n",
    "- Defina uma função que recebe duas listas como argumento, e que devolve o valor booleano verdadeiro se as listas tiverem pelo menos um elemento comum."
   ]
  },
  {
   "cell_type": "code",
   "execution_count": null,
   "id": "7a2f4413",
   "metadata": {},
   "outputs": [],
   "source": [
    "# Solução do exercício 13\n",
    "def haComuns(listaA, listaB):\n",
    "    \n",
    "    return"
   ]
  },
  {
   "cell_type": "markdown",
   "id": "061bae0e",
   "metadata": {},
   "source": [
    "### Exercício 14: Comuns\n",
    "- Defina uma função que recebe duas listas como argumento, e que devolve uma nova lista com os valores comuns às duas listas."
   ]
  },
  {
   "cell_type": "code",
   "execution_count": null,
   "id": "02db9458",
   "metadata": {},
   "outputs": [],
   "source": [
    "# Solução do exercício 14\n",
    "def comuns(listaA, listaB):\n",
    "    \n",
    "    return"
   ]
  },
  {
   "cell_type": "markdown",
   "id": "af4f2b11",
   "metadata": {},
   "source": [
    "### Exercício 15: Únicos\n",
    "- Defina uma função que recebe duas listas como argumento, e que devolve uma nova lista com os valores que apenas existem numa delas."
   ]
  },
  {
   "cell_type": "code",
   "execution_count": null,
   "id": "01a0d35e",
   "metadata": {},
   "outputs": [],
   "source": [
    "# Solução do exercício 15\n",
    "def unicos(listaA, listaB):\n",
    "    \n",
    "    return"
   ]
  },
  {
   "cell_type": "markdown",
   "id": "2acbab46",
   "metadata": {},
   "source": [
    "### Exercício 16: indiceDe\n",
    "- Defina uma função que recebe uma lista e um elemento como argumento, e que devolve o índice desse elemento na lista. No caso do elemento não existir na lista deverá devolver o valor -1."
   ]
  },
  {
   "cell_type": "code",
   "execution_count": null,
   "id": "3891e6c3",
   "metadata": {},
   "outputs": [],
   "source": [
    "# Solução do exercício 16\n",
    "def unicos(lista, elem):\n",
    "    \n",
    "    return"
   ]
  },
  {
   "cell_type": "markdown",
   "id": "1d9c2fbc",
   "metadata": {},
   "source": [
    "### Exercício 17: estaOrdenada\n",
    "- Defina uma função que recebe uma lista de números e verifica se a mesma está ordenada por ordem crescente."
   ]
  },
  {
   "cell_type": "code",
   "execution_count": null,
   "id": "fb44546a",
   "metadata": {},
   "outputs": [],
   "source": [
    "# Solução do exercício 17\n",
    "def estaOrdenada(lista):\n",
    "    \n",
    "    return"
   ]
  },
  {
   "cell_type": "markdown",
   "id": "4c48dc90",
   "metadata": {},
   "source": [
    "### Exercício 18: estaOrdenadaCD\n",
    "- Modifique a função do exercício anterior para receber um parâmetro extra, **ordem**, que poderá ter valores \"C\" ou \"D\" e que vai verificar se a lista está ordenada por ordem crescente se **ordem=\"C\"** ou se está ordenada por ordem decrescente se **ordem=\"D\"**."
   ]
  },
  {
   "cell_type": "code",
   "execution_count": null,
   "id": "f4b83960",
   "metadata": {},
   "outputs": [],
   "source": [
    "# Solução do exercício 18\n",
    "def estaOrdenadaCD(lista, ordem):\n",
    "    \n",
    "    return"
   ]
  },
  {
   "cell_type": "markdown",
   "id": "4193a91b",
   "metadata": {},
   "source": [
    "### TPC4: Aplicação para manipulação de listas de inteiros\n",
    "- Crie uma aplicação em Python que coloca no monitor o seguinte menu:\n",
    "    * (1) Criar Lista \n",
    "    * (2) Ler Lista\n",
    "    * (3) Soma\n",
    "    * (4) Média\n",
    "    * (5) Maior\n",
    "    * (6) Menor\n",
    "    * (7) estaOrdenada por ordem crescente\n",
    "    * (8) estaOrdenada por ordem decrescente\n",
    "    * (9) Procura um elemento\n",
    "    * (0) Sair\n",
    "- O utilizador irá escolher uma das opções introduzindo o número correspondente;\n",
    "- Se a opção não for sair, a aplicação executa a operação pretendida, apresenta o resultado e a seguir apresenta de novo o menu;\n",
    "- Se a opção for sair, a aplicação termina colocando uma mensagem no monitor.\n",
    "\n",
    "* No desenvolvimento da aplicação deverá ter em atenção o seguinte:\n",
    "    - A aplicação terá uma variável interna para guardar uma lista de números;\n",
    "    - Na opção 1, deverá ser criada uma lista de números aleatórios entre 1 e 100 que será guardada na variável interna;\n",
    "    - Na opção 2, deverá ser criada uma lista com números introduzidos pelo utilizador, que será guardada na variável interna;\n",
    "    - Nestas primeiras opções, se a variável interna já tiver uma lista, esta será sobreposta/apagada pela nova lista;\n",
    "    - Na opção 3, será calculada a soma dos elementos na lista no momento;\n",
    "    - Na opção 4, será calculada a média dos elementos na lista no momento;\n",
    "    - Na opção 5, será calculado o maior elemento da lista no momento;\n",
    "    - Na opção 6, será calculado o menor elemento da lista no momento;\n",
    "    - Na opção 7, a aplicação deverá indicar (Sim/Não) se a lista está ordenada por ordem crescente;\n",
    "    - Na opção 8, a aplicação deverá indicar (Sim/Não) se a lista está ordenada por ordem decrescente;\n",
    "    - Na opção 9, a aplicação irá procurar um elemento na lista, se o encontrar deverá devolver a sua posição, devolverá -1 se o elemento não estiver na lista;\n",
    "    - Se o utilizador selecionar a opção 0, a aplicação deverá terminar mostrando a lista que está nesse momento guardada."
   ]
  },
  {
   "cell_type": "code",
   "execution_count": 3,
   "id": "9478263d",
   "metadata": {},
   "outputs": [
    {
     "name": "stdout",
     "output_type": "stream",
     "text": [
      "\n",
      "Menu:\n",
      "(1) Criar Lista \n",
      "(2) Ler Lista\n",
      "(3) Soma \n",
      "(4) Média \n",
      "(5) Maior \n",
      "(6) Menor \n",
      "(7) estaOrdenada por ordem crescente?\n",
      "(8) estaOrdenada por ordem decrescente?\n",
      "(9) Procurar um elemento\n",
      "(0) Sair\n",
      "Opção inválida. Tente novamente.\n",
      "\n",
      "Menu:\n",
      "(1) Criar Lista \n",
      "(2) Ler Lista\n",
      "(3) Soma \n",
      "(4) Média \n",
      "(5) Maior \n",
      "(6) Menor \n",
      "(7) estaOrdenada por ordem crescente?\n",
      "(8) estaOrdenada por ordem decrescente?\n",
      "(9) Procurar um elemento\n",
      "(0) Sair\n",
      "Lista do usuário criada: [5, 1, 4]\n",
      "\n",
      "Menu:\n",
      "(1) Criar Lista \n",
      "(2) Ler Lista\n",
      "(3) Soma \n",
      "(4) Média \n",
      "(5) Maior \n",
      "(6) Menor \n",
      "(7) estaOrdenada por ordem crescente?\n",
      "(8) estaOrdenada por ordem decrescente?\n",
      "(9) Procurar um elemento\n",
      "(0) Sair\n",
      "Lista do usuário criada: [1]\n",
      "\n",
      "Menu:\n",
      "(1) Criar Lista \n",
      "(2) Ler Lista\n",
      "(3) Soma \n",
      "(4) Média \n",
      "(5) Maior \n",
      "(6) Menor \n",
      "(7) estaOrdenada por ordem crescente?\n",
      "(8) estaOrdenada por ordem decrescente?\n",
      "(9) Procurar um elemento\n",
      "(0) Sair\n",
      "Lista aleatória criada: [3, 81, 43, 31, 47, 15, 68, 81, 61, 31]\n",
      "\n",
      "Menu:\n",
      "(1) Criar Lista \n",
      "(2) Ler Lista\n",
      "(3) Soma \n",
      "(4) Média \n",
      "(5) Maior \n",
      "(6) Menor \n",
      "(7) estaOrdenada por ordem crescente?\n",
      "(8) estaOrdenada por ordem decrescente?\n",
      "(9) Procurar um elemento\n",
      "(0) Sair\n",
      "Média dos elementos:  46.1\n",
      "\n",
      "Menu:\n",
      "(1) Criar Lista \n",
      "(2) Ler Lista\n",
      "(3) Soma \n",
      "(4) Média \n",
      "(5) Maior \n",
      "(6) Menor \n",
      "(7) estaOrdenada por ordem crescente?\n",
      "(8) estaOrdenada por ordem decrescente?\n",
      "(9) Procurar um elemento\n",
      "(0) Sair\n",
      "Soma dos elementos:  461\n",
      "\n",
      "Menu:\n",
      "(1) Criar Lista \n",
      "(2) Ler Lista\n",
      "(3) Soma \n",
      "(4) Média \n",
      "(5) Maior \n",
      "(6) Menor \n",
      "(7) estaOrdenada por ordem crescente?\n",
      "(8) estaOrdenada por ordem decrescente?\n",
      "(9) Procurar um elemento\n",
      "(0) Sair\n",
      "Média dos elementos:  46.1\n",
      "\n",
      "Menu:\n",
      "(1) Criar Lista \n",
      "(2) Ler Lista\n",
      "(3) Soma \n",
      "(4) Média \n",
      "(5) Maior \n",
      "(6) Menor \n",
      "(7) estaOrdenada por ordem crescente?\n",
      "(8) estaOrdenada por ordem decrescente?\n",
      "(9) Procurar um elemento\n",
      "(0) Sair\n",
      "Soma dos elementos:  461\n",
      "\n",
      "Menu:\n",
      "(1) Criar Lista \n",
      "(2) Ler Lista\n",
      "(3) Soma \n",
      "(4) Média \n",
      "(5) Maior \n",
      "(6) Menor \n",
      "(7) estaOrdenada por ordem crescente?\n",
      "(8) estaOrdenada por ordem decrescente?\n",
      "(9) Procurar um elemento\n",
      "(0) Sair\n"
     ]
    }
   ],
   "source": [
    "import random\n",
    "\n",
    "\n",
    "def criarLista():\n",
    "    return [random.randint(1, 100) for n in range(10)]\n",
    "\n",
    "\n",
    "def lerLista():\n",
    "    lista = []\n",
    "    num_elementos = int(input(\"Quantos números você deseja inserir na lista? \"))\n",
    "    for n in range(num_elementos):\n",
    "        elemento = int(input(\"Insira um número: \"))\n",
    "        lista.append(elemento)\n",
    "    return lista\n",
    "\n",
    "def estaOrdenadaC(N):\n",
    "    return lista == sorted(lista)\n",
    "\n",
    "\n",
    "def estaOrdenadaD(N):\n",
    "    return lista == sorted(lista, reverse=True)\n",
    "\n",
    "\n",
    "def procurar_elemento(N, elemento):\n",
    "    if elemento in lista:\n",
    "        return lista.index(elemento)\n",
    "    else:\n",
    "        return -1\n",
    "\n",
    "def main():\n",
    "    lista = []\n",
    "\n",
    "    while True:\n",
    "        print(\"\\nMenu:\")\n",
    "        print(\"(1) Criar Lista \")\n",
    "        print(\"(2) Ler Lista\")\n",
    "        print(\"(3) Soma \")\n",
    "        print(\"(4) Média \")\n",
    "        print(\"(5) Maior \")\n",
    "        print(\"(6) Menor \")\n",
    "        print(\"(7) estaOrdenada por ordem crescente?\")\n",
    "        print(\"(8) estaOrdenada por ordem decrescente?\")\n",
    "        print(\"(9) Procurar um elemento\")\n",
    "        print(\"(0) Sair\")\n",
    "\n",
    "        opcao = input(\"Escolha uma opção: \")\n",
    "\n",
    "        if opcao == '1':\n",
    "            lista = criarLista()\n",
    "            print(\"Lista aleatória criada:\", lista)\n",
    "        elif opcao == '2':\n",
    "            lista = lerLista()\n",
    "            print(\"Lista do usuário criada:\", lista)\n",
    "        elif opcao == '3':\n",
    "            soma = sum(lista)\n",
    "            print(\"Soma dos elementos: \", soma)\n",
    "        elif opcao == '4':\n",
    "            media = sum(lista) / len(lista)\n",
    "            print(\"Média dos elementos: \", media)\n",
    "        elif opcao == '5':\n",
    "            maior = max(lista)\n",
    "            print(\"Maior elemento: \", maior)\n",
    "        elif opcao == '6':\n",
    "            menor = min(lista)\n",
    "            print(\"Menor elemento: \", menor)\n",
    "        elif opcao == '7':\n",
    "            ordenada_crescente = estaOrdenadaC(lista)\n",
    "            print(\"Está ordenada por ordem crescente? \", ordenada_crescente)\n",
    "        elif opcao == '8':\n",
    "            ordenada_decrescente = estaOrdenadaD(lista)\n",
    "            print(\"Está ordenada por ordem decrescente? \", ordenada_decrescente)\n",
    "        elif opcao == '9':\n",
    "            elemento = int(input(\"Insira o elemento a ser procurado: \"))\n",
    "            posicao = procurar_elemento(lista, elemento)\n",
    "            if posicao != -1:\n",
    "                print(f\"O elemento {elemento} foi encontrado na posição {posicao}.\")\n",
    "            else:\n",
    "                print(f\"O elemento {elemento} não foi encontrado na lista.\")\n",
    "        elif opcao == '0':\n",
    "            print(\"Saindo. Lista atual: \", lista)\n",
    "            break\n",
    "        else:\n",
    "            print(\"Opção inválida. Tente novamente.\")\n",
    "\n",
    "if __name__ == \"__main__\":\n",
    "    main()\n"
   ]
  }
 ],
 "metadata": {
  "kernelspec": {
   "display_name": "Python 3.9.1 64-bit",
   "language": "python",
   "name": "python3"
  },
  "language_info": {
   "codemirror_mode": {
    "name": "ipython",
    "version": 3
   },
   "file_extension": ".py",
   "mimetype": "text/x-python",
   "name": "python",
   "nbconvert_exporter": "python",
   "pygments_lexer": "ipython3",
   "version": "3.11.5"
  },
  "vscode": {
   "interpreter": {
    "hash": "aee8b7b246df8f9039afb4144a1f6fd8d2ca17a180786b69acc140d282b71a49"
   }
  }
 },
 "nbformat": 4,
 "nbformat_minor": 5
}
